{
 "cells": [
  {
   "cell_type": "code",
   "execution_count": 1,
   "metadata": {},
   "outputs": [
    {
     "name": "stdout",
     "output_type": "stream",
     "text": [
      "RMSE: 1.0014\n"
     ]
    }
   ],
   "source": [
    "# We import elementary libraries/modules\n",
    "import pandas as pd\n",
    "import numpy as np\n",
    "import matplotlib.pyplot as plt\n",
    "from surprise import SVD\n",
    "from surprise import Dataset\n",
    "from surprise import Reader\n",
    "from surprise.model_selection import train_test_split, cross_validate\n",
    "from surprise import accuracy\n",
    "\n",
    "# Read the scores dataset and convert the column \"scores\" to float16\n",
    "scores_df = pd.read_csv(\"./datasets/scores.csv\")\n",
    "scores_df[\"scores\"] = np.float16(scores_df[\"scores\"])\n",
    "\n",
    "# Read the movies dataset to get the movie titles\n",
    "platform_movies = pd.read_csv(\"./datasets/platform_movies_scores.csv\")\n",
    "\n",
    "# Set the format to our scores\n",
    "reader = Reader(rating_scale=(1, 5))\n",
    "\n",
    "# Load the data to be used to train our recommendation model.\n",
    "data = Dataset.load_from_df(scores_df[['userId', 'movieId', 'scores']], reader)\n",
    "\n",
    "# Split the dataset in trainset and testset\n",
    "trainset, testset = train_test_split(data, test_size=.25, random_state=42)\n",
    "\n",
    "# Select a recommendation algorithm\n",
    "model = SVD()\n",
    "\n",
    "# Train the model with \"trainset\"\n",
    "model.fit(trainset)\n",
    "\n",
    "# Predict using the model and \"testset\"\n",
    "predictions = model.test(testset)\n",
    "\n",
    "# Evaluate the model\n",
    "rmse = accuracy.rmse(predictions)\n"
   ]
  },
  {
   "cell_type": "code",
   "execution_count": 34,
   "metadata": {},
   "outputs": [
    {
     "name": "stdout",
     "output_type": "stream",
     "text": [
      "1\n",
      "Evaluating RMSE of algorithm SVD on 3 split(s).\n",
      "\n",
      "                  Fold 1  Fold 2  Fold 3  Mean    Std     \n",
      "RMSE (testset)    0.9660  0.9658  0.9656  0.9658  0.0002  \n",
      "Fit time          47.34   49.36   51.06   49.25   1.52    \n",
      "Test time         35.45   34.77   35.37   35.20   0.31    \n",
      "2\n",
      "Evaluating RMSE of algorithm SVD on 3 split(s).\n",
      "\n",
      "                  Fold 1  Fold 2  Fold 3  Mean    Std     \n",
      "RMSE (testset)    0.9669  0.9664  0.9662  0.9665  0.0003  \n",
      "Fit time          47.51   49.95   51.81   49.75   1.76    \n",
      "Test time         31.12   36.98   30.91   33.00   2.81    \n",
      "4\n",
      "Evaluating RMSE of algorithm SVD on 3 split(s).\n",
      "\n",
      "                  Fold 1  Fold 2  Fold 3  Mean    Std     \n",
      "RMSE (testset)    0.9682  0.9681  0.9678  0.9680  0.0002  \n",
      "Fit time          49.27   52.00   53.84   51.70   1.88    \n",
      "Test time         34.38   33.91   34.34   34.21   0.21    \n",
      "8\n",
      "Evaluating RMSE of algorithm SVD on 3 split(s).\n",
      "\n",
      "                  Fold 1  Fold 2  Fold 3  Mean    Std     \n",
      "RMSE (testset)    0.9708  0.9713  0.9700  0.9707  0.0005  \n",
      "Fit time          53.61   56.18   58.06   55.95   1.82    \n",
      "Test time         34.15   33.94   34.40   34.16   0.19    \n",
      "16\n",
      "Evaluating RMSE of algorithm SVD on 3 split(s).\n",
      "\n",
      "                  Fold 1  Fold 2  Fold 3  Mean    Std     \n",
      "RMSE (testset)    0.9753  0.9750  0.9754  0.9752  0.0002  \n",
      "Fit time          59.56   62.47   64.08   62.03   1.87    \n",
      "Test time         34.33   34.15   30.97   33.15   1.54    \n",
      "32\n",
      "Evaluating RMSE of algorithm SVD on 3 split(s).\n",
      "\n",
      "                  Fold 1  Fold 2  Fold 3  Mean    Std     \n",
      "RMSE (testset)    0.9831  0.9824  0.9829  0.9828  0.0003  \n",
      "Fit time          68.66   71.98   73.13   71.26   1.89    \n",
      "Test time         37.46   30.35   34.27   34.03   2.91    \n",
      "64\n",
      "Evaluating RMSE of algorithm SVD on 3 split(s).\n",
      "\n",
      "                  Fold 1  Fold 2  Fold 3  Mean    Std     \n",
      "RMSE (testset)    0.9930  0.9937  0.9933  0.9934  0.0003  \n",
      "Fit time          84.04   87.27   88.01   86.44   1.73    \n",
      "Test time         34.43   33.97   30.77   33.06   1.63    \n",
      "128\n",
      "Evaluating RMSE of algorithm SVD on 3 split(s).\n",
      "\n",
      "                  Fold 1  Fold 2  Fold 3  Mean    Std     \n",
      "RMSE (testset)    1.0045  1.0050  1.0047  1.0047  0.0002  \n",
      "Fit time          109.42  112.99  113.74  112.05  1.88    \n",
      "Test time         37.39   34.01   30.71   34.04   2.73    \n"
     ]
    }
   ],
   "source": [
    "# In this part We will find the best parameters to optimize our model.\n",
    "rmse_test_means = []\n",
    "factors = [1,2,4,8,16,32,64,128]\n",
    "\n",
    "for factor in factors:\n",
    "    print(factor)\n",
    "    model = SVD(n_factors=factor)\n",
    "    cv = cross_validate(model, data, measures=['RMSE'], cv = 3, verbose=True)\n",
    "    rmse_test_means.append(np.mean(cv['test_rmse']))"
   ]
  },
  {
   "cell_type": "code",
   "execution_count": 35,
   "metadata": {},
   "outputs": [
    {
     "data": {
      "image/png": "[encoded data removed]",
      "text/plain": [
       "<Figure size 640x480 with 1 Axes>"
      ]
     },
     "metadata": {},
     "output_type": "display_data"
    }
   ],
   "source": [
    "# Plot the perfomance based on the number of SVD factors\n",
    "plt.scatter(factors, rmse_test_means)\n",
    "plt.xlabel('Number of Factors')\n",
    "plt.ylabel('RMSE Error')\n",
    "plt.show()"
   ]
  },
  {
   "cell_type": "code",
   "execution_count": 3,
   "metadata": {},
   "outputs": [],
   "source": [
    "# Function to Evaluate and predict if the movie is recommender for the user or not.\n",
    "def evaluate_recommendation_movie(userId, movieId):\n",
    "    \n",
    "    # Get the title of the introduced movie\n",
    "    movie_title = platform_movies[platform_movies.id == movieId].title.iloc[0].title()\n",
    "\n",
    "    # Evaluate the movie using the model\n",
    "    prediction = model.predict(userId,str(movieId))\n",
    "\n",
    "    if prediction.est > 3.6:\n",
    "        return \"Of course, get some popcorn and enjoy\", prediction.est, movie_title\n",
    "    else:\n",
    "        return \"No, you will sleep in the middle\", prediction.est, movie_title"
   ]
  },
  {
   "cell_type": "code",
   "execution_count": 21,
   "metadata": {},
   "outputs": [
    {
     "name": "stderr",
     "output_type": "stream",
     "text": [
      "c:\\Users\\snake\\AppData\\Local\\Programs\\Python\\Python39\\lib\\site-packages\\gradio\\inputs.py:59: UserWarning: Usage of gradio.inputs is deprecated, and will not be supported in the future, please import your component from gradio.components\n",
      "  warnings.warn(\n",
      "c:\\Users\\snake\\AppData\\Local\\Programs\\Python\\Python39\\lib\\site-packages\\gradio\\deprecation.py:40: UserWarning: `optional` parameter is deprecated, and it has no effect\n",
      "  warnings.warn(value)\n"
     ]
    },
    {
     "name": "stdout",
     "output_type": "stream",
     "text": [
      "Running on local URL:  http://127.0.0.1:7870\n",
      "Running on public URL: https://532e6241360838b50f.gradio.live\n",
      "\n",
      "This share link expires in 72 hours. For free permanent hosting and GPU upgrades (NEW!), check out Spaces: https://huggingface.co/spaces\n"
     ]
    },
    {
     "data": {
      "text/html": [
       "<div><iframe src=\"https://532e6241360838b50f.gradio.live\" width=\"100%\" height=\"500\" allow=\"autoplay; camera; microphone; clipboard-read; clipboard-write;\" frameborder=\"0\" allowfullscreen></iframe></div>"
      ],
      "text/plain": [
       "<IPython.core.display.HTML object>"
      ]
     },
     "metadata": {},
     "output_type": "display_data"
    },
    {
     "data": {
      "text/plain": []
     },
     "execution_count": 21,
     "metadata": {},
     "output_type": "execute_result"
    }
   ],
   "source": [
    "# --------------\n",
    "# Interface Part\n",
    "# --------------\n",
    "\n",
    "# Import Gradio Library\n",
    "import gradio as gr\n",
    "    \n",
    "title = str(\"Movie Recommendation System\")\n",
    "\n",
    "with gr.Blocks(title= title) as demo:\n",
    "    with gr.Row():\n",
    "        with gr.Column(scale=0.5, min_width=600):\n",
    "            userId = gr.inputs.Number(label=\"Introduce your User ID\")\n",
    "            movieId = gr.Textbox(label=\"Introduce your Movie ID\")\n",
    "            evaluate_recommendation_movie_btn = gr.Button(\"Evaluate if the movie is for you\")\n",
    "            movie_title = gr.Textbox(label = \"Film:\")\n",
    "            output = gr.Textbox(label=\"Will I enjoy the movie?\")\n",
    "            score = gr.Textbox(label=\"Predicted Score:\")\n",
    "            evaluate_recommendation_movie_btn.click(fn=evaluate_recommendation_movie, inputs=[userId,movieId], outputs=[output, score, movie_title])\n",
    "\n",
    "demo.launch(share = True)"
   ]
  }
 ],
 "metadata": {
  "kernelspec": {
   "display_name": "Python 3",
   "language": "python",
   "name": "python3"
  },
  "language_info": {
   "codemirror_mode": {
    "name": "ipython",
    "version": 3
   },
   "file_extension": ".py",
   "mimetype": "text/x-python",
   "name": "python",
   "nbconvert_exporter": "python",
   "pygments_lexer": "ipython3",
   "version": "3.9.7"
  },
  "orig_nbformat": 4,
  "vscode": {
   "interpreter": {
    "hash": "799302ca8e9e5f76990fdec324c5c8f08eed5783e7bd734aea790d6d50a26bb7"
   }
  }
 },
 "nbformat": 4,
 "nbformat_minor": 2
}
