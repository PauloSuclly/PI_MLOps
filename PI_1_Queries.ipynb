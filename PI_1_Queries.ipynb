{
 "cells": [
  {
   "cell_type": "code",
   "execution_count": 1,
   "metadata": {},
   "outputs": [],
   "source": [
    "# Import the elementary libraries\n",
    "from typing import Optional\n",
    "from fastapi import FastAPI\n",
    "import pandas as pd\n",
    "import numpy as np\n",
    "\n",
    "# Read the platform_movies database (csv file)\n",
    "platform_movies = pd.read_csv(\"./datasets/platform_movies_scores.csv\")\n",
    "\n",
    "# List of allowed platforms that will be used to filter\n",
    "allowed_platforms = [\"netflix\", \"amazon\", \"hulu\", \"disney\"]\n",
    "\n",
    "# List of allowed duration_types that will be used to filter.\n",
    "allowed_duration_types = [\"min\",\"season\",\"seasons\"]\n"
   ]
  },
  {
   "cell_type": "code",
   "execution_count": 2,
   "metadata": {},
   "outputs": [
    {
     "name": "stdout",
     "output_type": "stream",
     "text": [
      "soothing surf at del norte for sleep black screen\n"
     ]
    }
   ],
   "source": [
    "#Function 1\n",
    "# Will return the movie with the longest duration\n",
    "def get_max_duration(year: Optional[int]= None, platform: Optional[str]= None, duration_type: Optional[str] = \"min\"):\n",
    "    \n",
    "    # Here We will filter the registers of the column \"duration_type\" with the data of the variable duration_type\n",
    "    if duration_type.lower() in allowed_duration_types:\n",
    "        if duration_type in [\"season\",\"seasons\"]:\n",
    "            platform_mask = platform_movies[platform_movies[\"duration_type\"].isin([\"season\",\"seasons\"])]\n",
    "        else:    \n",
    "            platform_mask = platform_movies[platform_movies[\"duration_type\"] == duration_type]\n",
    "\n",
    "    else:\n",
    "        # An error will appear if the duration_type introduced is not part of the allowed ones.\n",
    "        return {\"error\": \"Please introduce a valid duration_type (Min, Season, Seasons)\"}\n",
    "\n",
    "    if year is not None:\n",
    "        # We will filter the registers with the condition that the data located in the column \"release_year\" is equals to the introduced \"year\".\n",
    "        platform_mask = platform_mask[platform_mask[\"release_year\"] == year]\n",
    "\n",
    "    if platform is not None:\n",
    "        if platform.lower() in allowed_platforms:\n",
    "            # After filtering the platforms, We pass everything to lowercase.\n",
    "            platform_id = platform.lower()[0]\n",
    "            # Here We filter the registers of the column \"id\". (We use the first letter to extract the content of the platform).\n",
    "            platform_mask = platform_mask[platform_mask[\"id\"].str.startswith(platform_id)]\n",
    "\n",
    "        else:\n",
    "            # An error will appear if the platform introduced is not part of the allowed ones.\n",
    "            return {\"error\": \"Please introduce a valid platform (Netflix, Amazon, Hulu, Disney)\"}\n",
    "\n",
    "    # Here We will sort the values of the column \"duration_int\" and get the title of the max_duration audiovisual content\n",
    "    title = platform_mask.sort_values('duration_int', ascending=False).iloc[0]['title']\n",
    "\n",
    "    # Return the title of the max_duration audiovisual content\n",
    "    return title\n",
    "\n",
    "# Example\n",
    "print(get_max_duration())"
   ]
  },
  {
   "cell_type": "code",
   "execution_count": 13,
   "metadata": {},
   "outputs": [
    {
     "data": {
      "text/plain": [
       "{'platform': 'Amazon', 'count': 134}"
      ]
     },
     "execution_count": 13,
     "metadata": {},
     "output_type": "execute_result"
    }
   ],
   "source": [
    "#Function 2\n",
    "# Will return the number of films by platform with a score greater than XX in a given year\n",
    "def get_score_count(platform: str, scored: Optional[float] = None, year: Optional[int] = None):\n",
    "\n",
    "    if platform.lower() in allowed_platforms:\n",
    "\n",
    "        # After filtering the platforms, We pass everything to lowercase.\n",
    "        platform_id = platform.lower()[0]\n",
    "        # Here We filter the registers of the column \"id\". (We use the first letter to extract the content of the platform).\n",
    "        platform_mask = platform_movies[platform_movies[\"id\"].str.startswith(platform_id)]\n",
    "        \n",
    "        # Now, We will filter the registers with the condition that the data located in the column \"prom_scores\" is greater than to the introduced \"scored\".\n",
    "        platform_mask = platform_mask[platform_mask[\"prom_scores\"] > scored]\n",
    "        \n",
    "        # Now, We will filter the registers with the condition that the data located in the column \"release_year\" is equals to the introduced \"year\".\n",
    "        platform_mask = platform_mask[platform_mask[\"release_year\"] == year]\n",
    "\n",
    "        if len(platform_mask) == 0:\n",
    "            # An error will appear if the consult gave no results.\n",
    "            return {\"error\": \"We could'nt find the film that meets the filters entered.\"}\n",
    "        else:\n",
    "            platform_count = len(platform_mask)\n",
    "            return {\"platform\": platform, \"count\": platform_count}\n",
    "\n",
    "    else:\n",
    "        # An error will appear if the platform introduced is not part of the allowed ones.\n",
    "        return {\"error\": \"Please introduce a valid platform (Netflix, Amazon, Hulu, Disney).\"}\n",
    "\n",
    "\n",
    "# Example\n",
    "get_score_count(\"Amazon\",3.5,2010)"
   ]
  },
  {
   "cell_type": "code",
   "execution_count": 8,
   "metadata": {},
   "outputs": [
    {
     "name": "stdout",
     "output_type": "stream",
     "text": [
      "{'platform': 'Netflix', 'count': 8807}\n"
     ]
    }
   ],
   "source": [
    "#Function 3\n",
    "# Number of films per platform with the filter platform. (Function will have the format get_count_platform(platform)).\n",
    "def get_count_platform(platform: str):\n",
    "\n",
    "    if platform.lower() in allowed_platforms:\n",
    "\n",
    "        # After filtering the platforms, We pass everything to lowercase.\n",
    "        platform_id = platform.lower()[0]\n",
    "        # Here We filter the registers of the column \"id\". (We use the first letter to extract the content of the platform).\n",
    "        platform_mask = platform_movies['id'].str.startswith(platform_id)\n",
    "        # The next step is to count the number of trues that We had in the previous step.\n",
    "        platform_count = int(platform_mask.sum())\n",
    "\n",
    "        #We are going to return a JSON with the platform and the amount of movies/content that the platform has.\n",
    "        return {\"platform\": platform, \"count\": platform_count}\n",
    "\n",
    "    else:\n",
    "        # An error will appear if the platform introduced is not part of the allowed ones.\n",
    "        return {\"error\": \"Please introduce a valid platform (Netflix, Amazon, Hulu, Disney)\"}\n",
    "\n",
    "# Example\n",
    "print(get_count_platform(\"Netflix\"))"
   ]
  },
  {
   "cell_type": "code",
   "execution_count": 9,
   "metadata": {},
   "outputs": [
    {
     "name": "stdout",
     "output_type": "stream",
     "text": [
      "<class 'str'>\n",
      "{'platform': 'Netflix', 'top_actors': ['michela luci, jamie watson, eric peterson, anna claire bartlam, nicolas aqui, cory doran, julie lemieux, derek mcgrath']}\n"
     ]
    }
   ],
   "source": [
    "#Function 4\n",
    "# This function Will return the name of the actor who had the most appearances in that year\n",
    "def get_actor(platform: str, year: int):\n",
    "\n",
    "    # After filtering the platforms, We pass everything to lowercase.\n",
    "    platform_id = platform.lower()[0]\n",
    "\n",
    "    # Here We will filter the registers of the column \"id\". (We use the first letter to extract the content of the platform).\n",
    "    platform_mask = platform_movies[platform_movies[\"id\"].str.startswith(platform_id)]\n",
    "\n",
    "    # Now, We will filter the registers with the condition that the data located in the column \"release_year\" is equals to the introduced \"year\".\n",
    "    platform_mask = platform_mask[platform_mask[\"release_year\"] == year]\n",
    "\n",
    "    # Here We split the series of actors \n",
    "    platform_actors = platform_mask.assign(actor=platform_mask.cast.str.split(',')).explode('cast')\n",
    "    \n",
    "    # Count the number of appereances of each actor\n",
    "    actor_counts = platform_actors.cast.value_counts()\n",
    "    max_count = actor_counts.max()\n",
    "    top_actors = actor_counts[actor_counts == max_count].index.tolist()\n",
    "\n",
    "    # We return the name of the platform and the actor(s) who had the most appearances \n",
    "    return {\"platform\": platform, \"top_actors\": top_actors}\n",
    "\n",
    "# Example\n",
    "print(get_actor(\"Netflix\",2020))\n"
   ]
  }
 ],
 "metadata": {
  "kernelspec": {
   "display_name": "Python 3",
   "language": "python",
   "name": "python3"
  },
  "language_info": {
   "codemirror_mode": {
    "name": "ipython",
    "version": 3
   },
   "file_extension": ".py",
   "mimetype": "text/x-python",
   "name": "python",
   "nbconvert_exporter": "python",
   "pygments_lexer": "ipython3",
   "version": "3.9.7"
  },
  "orig_nbformat": 4,
  "vscode": {
   "interpreter": {
    "hash": "799302ca8e9e5f76990fdec324c5c8f08eed5783e7bd734aea790d6d50a26bb7"
   }
  }
 },
 "nbformat": 4,
 "nbformat_minor": 2
}
